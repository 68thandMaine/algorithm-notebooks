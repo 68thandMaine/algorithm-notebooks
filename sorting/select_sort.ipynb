{
 "cells": [
  {
   "cell_type": "code",
   "execution_count": 19,
   "metadata": {},
   "outputs": [
    {
     "name": "stdout",
     "output_type": "stream",
     "text": [
      "[6, 1, 1, 5, 5]\n"
     ]
    }
   ],
   "source": [
    "def select_sort(array: list[int]) -> list[int]:\n",
    "    for i, val in enumerate(array):\n",
    "        for j, target in enumerate(array[i + 1:]):\n",
    "        \n",
    "            if val > target:\n",
    "                \n",
    "                temp = array[i]\n",
    "                array[i] = target\n",
    "                array[j] = temp\n",
    "    print(array)\n",
    "\n",
    "select_sort([2,3,1,6,5])  "
   ]
  }
 ],
 "metadata": {
  "kernelspec": {
   "display_name": "base",
   "language": "python",
   "name": "python3"
  },
  "language_info": {
   "codemirror_mode": {
    "name": "ipython",
    "version": 3
   },
   "file_extension": ".py",
   "mimetype": "text/x-python",
   "name": "python",
   "nbconvert_exporter": "python",
   "pygments_lexer": "ipython3",
   "version": "3.9.18"
  }
 },
 "nbformat": 4,
 "nbformat_minor": 2
}
