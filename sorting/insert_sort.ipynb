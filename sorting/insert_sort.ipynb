{
 "cells": [
  {
   "cell_type": "code",
   "execution_count": 12,
   "metadata": {},
   "outputs": [
    {
     "name": "stdout",
     "output_type": "stream",
     "text": [
      "[2, 3, 5, 7, 8, 10, 13]\n"
     ]
    }
   ],
   "source": [
    "def insert_sort(int_list: list[int]) -> list[int]:\n",
    "    key = int_list[-1]\n",
    "    i = len(int_list) - 1\n",
    "    while i >= 0:\n",
    "        if key < int_list[i-1]:\n",
    "            int_list[i] = int_list[i-1]\n",
    "        if key > int_list[i-1]:\n",
    "            int_list[i] = key\n",
    "            break\n",
    "        i -= 1\n",
    "    return int_list\n",
    "\n",
    "int_list = [2,3,7,8,10,13,5]\n",
    "insert_sort(int_list)"
   ]
  },
  {
   "cell_type": "code",
   "execution_count": 1,
   "metadata": {},
   "outputs": [
    {
     "data": {
      "text/plain": [
       "7"
      ]
     },
     "execution_count": 1,
     "metadata": {},
     "output_type": "execute_result"
    }
   ],
   "source": [
    "def insertion(int_list: list[int], right_index: int, value: int) -> list[int]:\n",
    "    \"\"\"\n",
    "    Inserts a value into the int_list and preserves ascending order.\n",
    "    \n",
    "    Before the insert function is called:\n",
    "    * the elements from array[0] to array[rightIndex] are sorted in ascending order.\n",
    "    \n",
    "    After calling the insert function:\n",
    "    * value and the elements that were previously in array[0] to array[rightIndex], should be sorted in ascending order and stored in the elements from array[0] to array[rightIndex+1].\n",
    "\n",
    "    Args:\n",
    "        int_list (list[int]): list of integers to insert values and sort\n",
    "        right_index (int): position where sort must begin\n",
    "        value (int): value to be inserted\n",
    "\n",
    "    Returns:\n",
    "        list[int]: semi-sorted list\n",
    "    \"\"\"\n",
    "        \n",
    "            \n",
    "        \n",
    "\n",
    "int_list = [10,7,3,13,2,8,5]\n",
    "[7]\n",
    "insertion_sort(int_list)"
   ]
  },
  {
   "cell_type": "code",
   "execution_count": null,
   "metadata": {},
   "outputs": [],
   "source": []
  },
  {
   "cell_type": "code",
   "execution_count": null,
   "metadata": {},
   "outputs": [],
   "source": [
    "\n"
   ]
  }
 ],
 "metadata": {
  "kernelspec": {
   "display_name": "base",
   "language": "python",
   "name": "python3"
  },
  "language_info": {
   "codemirror_mode": {
    "name": "ipython",
    "version": 3
   },
   "file_extension": ".py",
   "mimetype": "text/x-python",
   "name": "python",
   "nbconvert_exporter": "python",
   "pygments_lexer": "ipython3",
   "version": "3.9.18"
  }
 },
 "nbformat": 4,
 "nbformat_minor": 2
}
