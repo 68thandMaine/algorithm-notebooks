{
 "cells": [
  {
   "cell_type": "code",
   "execution_count": 2,
   "metadata": {},
   "outputs": [
    {
     "name": "stdout",
     "output_type": "stream",
     "text": [
      "Binary search took 96.270022811 seconds\n",
      "Index binary search took 0.039982678000001215 seconds\n"
     ]
    }
   ],
   "source": [
    "import timeit\n",
    "\n",
    "def binary_search(num_list: list[int], search_value: int):\n",
    "    s = len(num_list)\n",
    "    \n",
    "    if s == 0:\n",
    "        return None\n",
    "    \n",
    "    mid_point_index = s // 2\n",
    "    mid_point_value = num_list[mid_point_index]\n",
    "    \n",
    "    if mid_point_value == search_value:\n",
    "        return 'Found'\n",
    "    elif mid_point_value > search_value:\n",
    "        return binary_search(num_list[:mid_point_index], search_value)\n",
    "    else:\n",
    "        return binary_search(num_list[mid_point_index + 1:], search_value)\n",
    "\n",
    "\n",
    "\n",
    "\n",
    "def index_binary_search(num_list: list[int], target_value: int):\n",
    "    min = 0\n",
    "    max = len(num_list) - 1\n",
    "    while max >= min:\n",
    "        guess_index = (max + min) // 2\n",
    "\n",
    "        if(num_list[guess_index] == target_value):\n",
    "            return 'found'\n",
    "        elif num_list[guess_index] > target_value:\n",
    "            max = guess_index - 1\n",
    "        else:\n",
    "            min = guess_index + 1\n",
    "    return 'not found'\n",
    "\n",
    "array = [i for i in range(1, 1000000)]\n",
    "\n",
    "\n",
    "\n",
    "# Measure the execution time of binary_search function\n",
    "binary_search_time = timeit.timeit(lambda: binary_search(array, 3), number=10000)\n",
    "print(f\"Binary search took {binary_search_time} seconds\")\n",
    "\n",
    "# Measure the execution time of index_binary_search function\n",
    "index_binary_search_time = timeit.timeit(lambda: index_binary_search(array, 3), number=10000)\n",
    "print(f\"Index binary search took {index_binary_search_time} seconds\")"
   ]
  }
 ],
 "metadata": {
  "kernelspec": {
   "display_name": "base",
   "language": "python",
   "name": "python3"
  },
  "language_info": {
   "codemirror_mode": {
    "name": "ipython",
    "version": 3
   },
   "file_extension": ".py",
   "mimetype": "text/x-python",
   "name": "python",
   "nbconvert_exporter": "python",
   "pygments_lexer": "ipython3",
   "version": "3.9.18"
  }
 },
 "nbformat": 4,
 "nbformat_minor": 2
}
