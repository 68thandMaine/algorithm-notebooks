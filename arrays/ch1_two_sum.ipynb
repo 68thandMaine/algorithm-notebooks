{
 "cells": [
  {
   "cell_type": "markdown",
   "id": "71cbf2fb",
   "metadata": {},
   "source": [
    "# Two Sum\n",
    "[LeetCode](https://leetcode.com/problems/two-sum/)"
   ]
  },
  {
   "cell_type": "code",
   "execution_count": 13,
   "id": "5a14b7a5",
   "metadata": {},
   "outputs": [
    {
     "name": "stdout",
     "output_type": "stream",
     "text": [
      "0 1\n",
      "3 2\n",
      " \n",
      "0 2\n",
      "3 3\n",
      " \n"
     ]
    },
    {
     "data": {
      "text/plain": [
       "[ \u001b[33m0\u001b[39m, \u001b[33m2\u001b[39m ]"
      ]
     },
     "execution_count": 13,
     "metadata": {},
     "output_type": "execute_result"
    }
   ],
   "source": [
    "function twoSum(nums: number[], target: number): number[] {\n",
    "    for(let slow = 0; slow < nums.length; slow ++) {\n",
    "        for(let fast = slow + 1; fast < nums.length; fast += 1){\n",
    "          console.log(slow, fast)\n",
    "          console.log(nums[slow], nums[fast])\n",
    "          console.log(' ')\n",
    "            if(nums[slow] + nums[fast] === target) return [slow, fast]\n",
    "            \n",
    "        }\n",
    "    }\n",
    "};\n",
    "\n",
    "twoSum([3,2,3], 6)"
   ]
  }
 ],
 "metadata": {
  "kernelspec": {
   "display_name": "Deno",
   "language": "typescript",
   "name": "deno"
  },
  "language_info": {
   "codemirror_mode": "typescript",
   "file_extension": ".ts",
   "mimetype": "text/x.typescript",
   "name": "typescript",
   "nbconvert_exporter": "script",
   "pygments_lexer": "typescript",
   "version": "5.8.3"
  }
 },
 "nbformat": 4,
 "nbformat_minor": 5
}
