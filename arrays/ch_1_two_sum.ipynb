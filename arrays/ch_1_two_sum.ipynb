{
 "cells": [
  {
   "cell_type": "markdown",
   "id": "71cbf2fb",
   "metadata": {},
   "source": [
    "# Two Sum\n",
    "\n",
    "This problem is looking for the indices of two numbers that add up to a given\n",
    "number.\n",
    "\n",
    "[LeetCode](https://leetcode.com/problems/two-sum/)"
   ]
  },
  {
   "cell_type": "markdown",
   "id": "117332f8",
   "metadata": {},
   "source": [
    "# Solution One"
   ]
  },
  {
   "cell_type": "code",
   "execution_count": null,
   "id": "5a14b7a5",
   "metadata": {},
   "outputs": [],
   "source": [
    "function twoSum(nums: number[], target: number): number[] {\n",
    "    for(let slow = 0; slow < nums.length; slow ++) {\n",
    "        for(let fast = slow + 1; fast < nums.length; fast += 1){\n",
    "          console.log(slow, fast)\n",
    "          console.log(nums[slow], nums[fast])\n",
    "          console.log(' ')\n",
    "            if(nums[slow] + nums[fast] === target) return [slow, fast]\n",
    "            \n",
    "        }\n",
    "    }\n",
    "};\n",
    "\n",
    "twoSum([3,2,3], 6)"
   ]
  },
  {
   "cell_type": "markdown",
   "id": "b11e1332",
   "metadata": {},
   "source": [
    "# Solution Two\n",
    "\n",
    "In this solution we can use a Map called `seen` to keep track of the numbers\n",
    "and the frequency in which they've shown up."
   ]
  },
  {
   "cell_type": "code",
   "execution_count": null,
   "id": "63e4774f",
   "metadata": {},
   "outputs": [],
   "source": [
    "const seen = new Map()<number, number>()"
   ]
  },
  {
   "cell_type": "markdown",
   "id": "e1854f30",
   "metadata": {},
   "source": [
    "Next we open a `for` loop over the `nums` and initialize a variable that represents the distance between the target number and the current index\n",
    "of the numbers array."
   ]
  },
  {
   "cell_type": "code",
   "execution_count": null,
   "id": "c072747a",
   "metadata": {},
   "outputs": [],
   "source": [
    "const complement = target - nums[i]"
   ]
  },
  {
   "cell_type": "markdown",
   "id": "46f0d233",
   "metadata": {},
   "source": [
    "If the complement is \"seen\", then return the two indices that equal the target"
   ]
  },
  {
   "cell_type": "code",
   "execution_count": null,
   "id": "1b176405",
   "metadata": {},
   "outputs": [],
   "source": [
    "if(seen.has(complement)) return [seen.get(complement), i]"
   ]
  },
  {
   "cell_type": "markdown",
   "id": "5b9a69ed",
   "metadata": {},
   "source": [
    "Otherwise add the current number in `nums` to `seen` to represent what index\n",
    "the number is sent to."
   ]
  },
  {
   "cell_type": "code",
   "execution_count": null,
   "id": "def67d87",
   "metadata": {},
   "outputs": [],
   "source": [
    "seen.set(nums[i], i)"
   ]
  }
 ],
 "metadata": {
  "kernelspec": {
   "display_name": "Deno",
   "language": "typescript",
   "name": "deno"
  },
  "language_info": {
   "codemirror_mode": "typescript",
   "file_extension": ".ts",
   "mimetype": "text/x.typescript",
   "name": "typescript",
   "nbconvert_exporter": "script",
   "pygments_lexer": "typescript",
   "version": "5.8.3"
  }
 },
 "nbformat": 4,
 "nbformat_minor": 5
}
