{
 "cells": [
  {
   "cell_type": "markdown",
   "id": "052ba374",
   "metadata": {},
   "source": [
    "# Length of Longest Substring\n",
    "\n",
    "Start with a hash, then keep track of the \"left most\" value and max length. "
   ]
  },
  {
   "cell_type": "code",
   "execution_count": null,
   "id": "4e2fe028",
   "metadata": {},
   "outputs": [],
   "source": [
    "const counts: Record<string, number> = {};\n",
    "let left = 0;\n",
    "let maxLength = 0;"
   ]
  },
  {
   "cell_type": "markdown",
   "id": "58717545",
   "metadata": {},
   "source": [
    "Keep another value active for the `seen` variable."
   ]
  },
  {
   "cell_type": "code",
   "execution_count": null,
   "id": "e273ba38",
   "metadata": {},
   "outputs": [],
   "source": [
    "const seen: Record<string, number> = {};"
   ]
  }
 ],
 "metadata": {
  "kernelspec": {
   "display_name": "Deno",
   "language": "typescript",
   "name": "deno"
  },
  "language_info": {
   "name": "typescript"
  }
 },
 "nbformat": 4,
 "nbformat_minor": 5
}
