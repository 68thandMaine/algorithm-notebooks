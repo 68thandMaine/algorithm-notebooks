{
 "cells": [
  {
   "cell_type": "markdown",
   "id": "0198690a",
   "metadata": {},
   "source": [
    "[Leetcode Problem: Longest Substring Without Repeating Characters](https://leetcode.com/problems/longest-substring-without-repeating-characters/)\n",
    "\n",
    "# Problem Description\n",
    "\n",
    "Given a string `s`, find the length of the **longest substring** that contains no repeating characters.\n",
    "\n",
    "## Problem Statement\n",
    "- Input: A string `s`\n",
    "- Output: Length of the longest substring with no repeating characters\n",
    "- Constraints: \n",
    "  - 0 ≤ s.length ≤ 50,000\n",
    "  - s consists of English letters, digits, symbols, and spaces\n",
    "\n",
    "## Approach: Sliding Window with Hashmap\n",
    "\n",
    "This problem can be efficiently solved using a sliding window technique combined with a hashmap.\n",
    "\n",
    "### Key Challenges\n",
    "- Dynamically tracking the current substring\n",
    "- Detecting repeated characters\n",
    "- Maintaining the maximum length substring\n",
    "- Efficiently sliding the window\n",
    "\n",
    "### Algorithm Overview\n",
    "\n",
    "The solution uses a sliding window approach with two key strategies:\n",
    "1. Two-pointer technique (`leftPointer` and `rightPointer`)\n",
    "2. Hashmap to track character positions\n",
    "\n",
    "### Detailed Algorithm Steps\n",
    "1. Initialize `leftPointer` at 0 and `maxLen` at 0\n",
    "2. Create a hashmap `seen` to store character last positions\n",
    "3. Iterate through the string with `rightPointer`\n",
    "4. For each character:\n",
    "   - Check if the character has been seen before within the current window\n",
    "   - If a repeat is found, move `leftPointer`\n",
    "   - Update the last seen position of the current character\n",
    "   - Update the maximum length of the substring\n",
    "\n",
    "### Key Variables\n",
    "- `seen`: Maps characters to their last seen index\n",
    "- `leftPointer`: Start of the current substring window\n",
    "- `rightPointer`: End of the current substring window\n",
    "- `maxLen`: Length of the longest substring without repeating characters\n",
    "\n",
    "### Complexity Analysis\n",
    "- **Time Complexity**: O(n), where n is the length of the string\n",
    "  - Single pass through the string\n",
    "  - Constant-time hashmap operations\n",
    "- **Space Complexity**: O(min(m, n))\n",
    "  - m: size of the character set\n",
    "  - n: length of the string\n",
    "  - Stores at most unique characters\n",
    "\n",
    "### Example Walkthrough\n",
    "- Input: \"abcabcbb\"\n",
    "- Output: 3 (the substring \"abc\")\n",
    "- Process:\n",
    "  1. First unique substring \"abc\" - length 3\n",
    "  2. Encounters repeat 'a' - slides window\n",
    "  3. Finds next unique substring\n",
    "\n",
    "### Common Pitfalls\n",
    "- Incorrect window sliding\n",
    "- Mishandling of character repetitions\n",
    "- Failing to update maximum length correctly\n",
    "\n",
    "### Optimization Techniques\n",
    "- Use a fixed-size array for ASCII characters\n",
    "- Early termination if max possible length is reached"
   ]
  },
  {
   "cell_type": "code",
   "execution_count": 18,
   "id": "a41770b8",
   "metadata": {},
   "outputs": [],
   "source": [
    "const seen: Record<string, number> = {}"
   ]
  },
  {
   "cell_type": "markdown",
   "id": "a61a02aa",
   "metadata": {},
   "source": [
    "### Initializing Sliding Window Variables\n",
    "\n",
    "We need two key variables to implement our sliding window approach:\n",
    "- `left`: Represents the start index of our current substring window\n",
    "- `maxLen`: Stores the length of the longest substring without repeating characters\n",
    "\n",
    "These variables will help us track and update our substring as we iterate through the string."
   ]
  },
  {
   "cell_type": "code",
   "execution_count": 19,
   "id": "c2dbb45a",
   "metadata": {},
   "outputs": [],
   "source": [
    "let left = 0\n",
    "let maxLen = 0"
   ]
  },
  {
   "cell_type": "markdown",
   "id": "d4a184a6",
   "metadata": {},
   "source": [
    "Next we will write a `for` loop that iterates over the length of the given \n",
    "string."
   ]
  },
  {
   "cell_type": "code",
   "execution_count": 20,
   "id": "2d269407",
   "metadata": {},
   "outputs": [],
   "source": [
    "for(let right = 0; right < s.length; right++) {}"
   ]
  },
  {
   "cell_type": "markdown",
   "id": "fc273b4d",
   "metadata": {},
   "source": [
    "Inside the loop we need to keep track of the current character."
   ]
  },
  {
   "cell_type": "code",
   "execution_count": 21,
   "id": "f3ec59d4",
   "metadata": {},
   "outputs": [
    {
     "ename": "ReferenceError",
     "evalue": "right is not defined",
     "output_type": "error",
     "traceback": [
      "Stack trace:",
      "ReferenceError: right is not defined",
      "    at <anonymous>:1:37"
     ]
    }
   ],
   "source": [
    "const char = s[right]"
   ]
  },
  {
   "cell_type": "markdown",
   "id": "cd6a9ace",
   "metadata": {},
   "source": [
    "Next we determine if the `seen` object has an entry."
   ]
  },
  {
   "cell_type": "code",
   "execution_count": null,
   "id": "f9ea0164",
   "metadata": {},
   "outputs": [],
   "source": [
    "if(seen[char] !== undefined && seen[char] >= left) {}"
   ]
  },
  {
   "cell_type": "markdown",
   "id": "4c6028fd",
   "metadata": {},
   "source": [
    "The second validation of the loop determines if the count in `seen` is greater\n",
    "than the `left` variable. If it is then update the `left` variable so that it \n",
    "is equal to the frequency of the character plus 1"
   ]
  },
  {
   "cell_type": "code",
   "execution_count": null,
   "id": "9b9296f9",
   "metadata": {},
   "outputs": [],
   "source": [
    "left = seen[char] + 1;"
   ]
  },
  {
   "cell_type": "markdown",
   "id": "6b008a6f",
   "metadata": {},
   "source": [
    "Next, update the value in `seen` for the current `char` to the current index."
   ]
  },
  {
   "cell_type": "code",
   "execution_count": null,
   "id": "1cc625a1",
   "metadata": {},
   "outputs": [],
   "source": [
    "seen[char] = right;"
   ]
  },
  {
   "cell_type": "markdown",
   "id": "d91bba8f",
   "metadata": {},
   "source": [
    "The last step of the `for` loop will be to set the `maxLen` variable to whatever\n",
    "is greater: the current `maxLen`, or the difference between the `right`/current\n",
    "index and `left` plus one."
   ]
  },
  {
   "cell_type": "code",
   "execution_count": null,
   "id": "94606c6b",
   "metadata": {},
   "outputs": [],
   "source": [
    "// Corrected implementation of lengthOfLongestSubstring\n",
    "function lengthOfLongestSubstring(s: string): number {\n",
    "    const seen: Record<string, number> = {};\n",
    "    let leftPointer = 0;\n",
    "    let maxLen = 0;\n",
    "\n",
    "    for(let rightPointer = 0; rightPointer < s.length; rightPointer++) {\n",
    "        const char = s[rightPointer];\n",
    "        \n",
    "        // If the character is already seen and its last position is after or at the left pointer\n",
    "        if(seen[char] !== undefined && seen[char] >= leftPointer) {\n",
    "            // Move the left pointer to the right of the last occurrence of this character\n",
    "            leftPointer = seen[char] + 1;\n",
    "        }\n",
    "        \n",
    "        // Update the last seen position of the current character\n",
    "        seen[char] = rightPointer;\n",
    "        \n",
    "        // Update the maximum length\n",
    "        maxLen = Math.max(maxLen, rightPointer - leftPointer + 1);\n",
    "    }\n",
    "    \n",
    "    return maxLen;\n",
    "}\n",
    "\n",
    "// Example test cases\n",
    "console.log(lengthOfLongestSubstring(\"abcabcbb\")); // Expected: 3\n",
    "console.log(lengthOfLongestSubstring(\"bbbbb\"));    // Expected: 1\n",
    "console.log(lengthOfLongestSubstring(\"pwwkew\"));   // Expected: 3\n"
   ]
  },
  {
   "cell_type": "markdown",
   "id": "f240932b",
   "metadata": {},
   "source": [
    "To finish, just return `maxLen`"
   ]
  }
 ],
 "metadata": {
  "kernelspec": {
   "display_name": "Deno",
   "language": "typescript",
   "name": "deno"
  },
  "language_info": {
   "codemirror_mode": "typescript",
   "file_extension": ".ts",
   "mimetype": "text/x.typescript",
   "name": "typescript",
   "nbconvert_exporter": "script",
   "pygments_lexer": "typescript",
   "version": "5.8.3"
  }
 },
 "nbformat": 4,
 "nbformat_minor": 5
}
