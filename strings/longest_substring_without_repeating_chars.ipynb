{
 "cells": [
  {
   "cell_type": "markdown",
   "id": "0198690a",
   "metadata": {},
   "source": [
    "[Leetcode](https://leetcode.com/problems/longest-substring-without-repeating-characters/)\n",
    "\n",
    "# Research\n",
    "\n",
    "To find the longest substring in a string without duplicate characters, you can use:\n",
    "\n",
    "- A Hashmap\n",
    "\n",
    "## Hashmap\n",
    "\n",
    "In this example first create a variable called `seen` that will store the \n",
    "number of times a character is appears in the substring."
   ]
  },
  {
   "cell_type": "code",
   "execution_count": null,
   "id": "a41770b8",
   "metadata": {},
   "outputs": [],
   "source": [
    "const seen: Record<string, number> = {}"
   ]
  },
  {
   "cell_type": "markdown",
   "id": "a61a02aa",
   "metadata": {},
   "source": [
    "We will also need variables for `left` and `maxLen`"
   ]
  },
  {
   "cell_type": "code",
   "execution_count": null,
   "id": "c2dbb45a",
   "metadata": {},
   "outputs": [],
   "source": [
    "let left = 0\n",
    "let maxLen = 0"
   ]
  },
  {
   "cell_type": "markdown",
   "id": "d4a184a6",
   "metadata": {},
   "source": [
    "Next we will write a `for` loop that iterates over the length of the given \n",
    "string."
   ]
  },
  {
   "cell_type": "code",
   "execution_count": null,
   "id": "2d269407",
   "metadata": {},
   "outputs": [],
   "source": [
    "for(let right = 0; right < s.length; right++) {}"
   ]
  },
  {
   "cell_type": "markdown",
   "id": "fc273b4d",
   "metadata": {},
   "source": [
    "Inside the loop we need to keep track of the current character."
   ]
  },
  {
   "cell_type": "code",
   "execution_count": null,
   "id": "f3ec59d4",
   "metadata": {},
   "outputs": [],
   "source": [
    "const char = s[right]"
   ]
  },
  {
   "cell_type": "markdown",
   "id": "cd6a9ace",
   "metadata": {},
   "source": [
    "Next we determine if the `seen` object has an entry."
   ]
  },
  {
   "cell_type": "code",
   "execution_count": null,
   "id": "f9ea0164",
   "metadata": {},
   "outputs": [],
   "source": [
    "if(seen[char] !== undefined && seen[char] >= left) {}"
   ]
  },
  {
   "cell_type": "markdown",
   "id": "4c6028fd",
   "metadata": {},
   "source": [
    "The second validation of the loop determines if the count in seen is greater\n",
    "than the `left` variable. If it is then update the `left` variable so that it \n",
    "is equal to the frequency of the character plus 1"
   ]
  },
  {
   "cell_type": "code",
   "execution_count": null,
   "id": "9b9296f9",
   "metadata": {},
   "outputs": [],
   "source": [
    "left = seen[char] + 1;"
   ]
  },
  {
   "cell_type": "markdown",
   "id": "6b008a6f",
   "metadata": {},
   "source": [
    "Next, update the value in `seen` for the current `char` to the current index."
   ]
  },
  {
   "cell_type": "code",
   "execution_count": null,
   "id": "1cc625a1",
   "metadata": {},
   "outputs": [],
   "source": [
    "seen[char] = right;"
   ]
  },
  {
   "cell_type": "markdown",
   "id": "d91bba8f",
   "metadata": {},
   "source": [
    "The last step of the `for` loop will be to set the `maxLen` variable to whatever\n",
    "is greater: the current `maxLen`, or the difference between the `right`/current\n",
    "index and `left` plus one."
   ]
  },
  {
   "cell_type": "code",
   "execution_count": null,
   "id": "94606c6b",
   "metadata": {},
   "outputs": [],
   "source": [
    "maxLen = Math.max(maxLen, right - left + 1)\n",
    "\n",
    "\n",
    "\n",
    "\n",
    "\n"
   ]
  },
  {
   "cell_type": "markdown",
   "id": "f240932b",
   "metadata": {},
   "source": [
    "To finish, just return `maxLen`"
   ]
  }
 ],
 "metadata": {
  "kernelspec": {
   "display_name": "Deno",
   "language": "typescript",
   "name": "deno"
  },
  "language_info": {
   "codemirror_mode": "typescript",
   "file_extension": ".ts",
   "mimetype": "text/x.typescript",
   "name": "typescript",
   "nbconvert_exporter": "script",
   "pygments_lexer": "typescript",
   "version": "5.8.3"
  }
 },
 "nbformat": 4,
 "nbformat_minor": 5
}
