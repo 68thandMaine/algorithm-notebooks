{
 "cells": [
  {
   "cell_type": "markdown",
   "id": "bba65211",
   "metadata": {},
   "source": [
    "# Add Two Numbers\n",
    "\n",
    "[From Leetcode](https://leetcode.com/problems/add-two-numbers/description/)\n",
    "\n",
    "---\n",
    "\n",
    "## Problem\n",
    "\n",
    "There are two linked lists:\n",
    "\n",
    "- Each node contains a single digit\n",
    "- Digits are stored in reverse order\n",
    "- Return a linked list representing the sum, also in reverse order\n",
    "\n",
    "## Solution\n",
    "\n",
    "Create a linked list and a function to add the two numbers together.\n",
    "\n",
    "### List Node Class\n",
    "\n",
    "A linked list is an array of nodes that \"point\" to the next node. To build this you need to create a `ListNode` class. This class will represent an entry in the linked list and have properties for the value of the entry, and the next node in the linked list."
   ]
  },
  {
   "cell_type": "code",
   "execution_count": 18,
   "id": "540cc760",
   "metadata": {},
   "outputs": [],
   "source": [
    "class ListNode {\n",
    "  val: number\n",
    "  next: ListNode | null\n",
    "\n",
    "  constructor(val: number, next: ListNode | null = null) {\n",
    "    this.val = val;\n",
    "    this.next = next ?? undefined;\n",
    "  }\n",
    "}"
   ]
  },
  {
   "cell_type": "code",
   "execution_count": 19,
   "id": "19e0652a",
   "metadata": {},
   "outputs": [],
   "source": [
    "// Helper: build a linked list from an array\n",
    "export function buildList(arr: number[]): ListNode | null {\n",
    "  const dummy = new ListNode(0);\n",
    "  let curr = dummy;\n",
    "  for (let num of arr) {\n",
    "      curr.next = new ListNode(num);\n",
    "      curr = curr.next;\n",
    "  }\n",
    "  return dummy.next;\n",
    "}\n",
    "\n",
    "// Helper: convert list back to array (for easy logging)\n",
    "export function listToArray(node: ListNode | null): number[] {\n",
    "  const result: number[] = [];\n",
    "  while (node) {\n",
    "      result.push(node.val);\n",
    "      node = node.next;\n",
    "  }\n",
    "  return result;\n",
    "}\n",
    "\n",
    "// Example inputs\n",
    "export const example1_l1 = buildList([2, 4, 3]); // represents 342\n",
    "export const example1_l2 = buildList([5, 6, 4]); // represents 465\n"
   ]
  },
  {
   "cell_type": "markdown",
   "id": "515db11c",
   "metadata": {},
   "source": [
    "### Add Two Numbers\n",
    "\n",
    "Write a function that takes in two linked lists, and add the indices of the linked lists together as a new linked list.\n"
   ]
  },
  {
   "cell_type": "code",
   "execution_count": null,
   "id": "271e1628",
   "metadata": {},
   "outputs": [
    {
     "data": {
      "text/plain": [
       "ListNode { val: \u001b[33m8\u001b[39m, next: \u001b[90mundefined\u001b[39m }"
      ]
     },
     "execution_count": 32,
     "metadata": {},
     "output_type": "execute_result"
    }
   ],
   "source": [
    "function addTwoNumbers (l1: ListNode, l2: ListNode): ListNode {\n",
    "  const dummy = new ListNode(0);\n",
    "  let current = dummy;\n",
    "  let carry = 0;\n",
    "\n",
    "  while(l1 !== null || l2 !== null || carry !== 0) {\n",
    "    const val1 = l1?.val ?? 0;\n",
    "    const val2 = l2?.val ?? 0;\n",
    "    const sum = val1 + val2 + carry;\n",
    "    carry = Math.floor(sum / 10);\n",
    "    current.next = new ListNode(sum % 10)\n",
    "    \n",
    "    l1 = l1?.next ?? null;\n",
    "    l2 = l2?.next ?? null;\n",
    "  }\n",
    "  return dummy.next;\n",
    "}\n",
    "f"
   ]
  },
  {
   "cell_type": "code",
   "execution_count": 21,
   "id": "4227e443",
   "metadata": {},
   "outputs": [
    {
     "name": "stdout",
     "output_type": "stream",
     "text": [
      "2 + 5 + 0\n"
     ]
    }
   ],
   "source": [
    "\n",
    "\n",
    "const dummy = new ListNode(0);\n",
    "let current = dummy;\n",
    "let carry = 0;\n",
    "\n",
    "const val1 = example1_l1.val\n",
    "const val2 = example1_l2.val\n",
    "\n",
    "const sum = val1 + val2 + carry\n",
    "\n",
    "console.log(`${val1} + ${val2} + ${carry}`)"
   ]
  },
  {
   "cell_type": "markdown",
   "id": "ce928d3f",
   "metadata": {},
   "source": [
    "Use `sum % 10` to find the singles place (write down)\n",
    "\n",
    "   \n",
    "   02\n",
    " + 05\n",
    " ----\n",
    "   07   → write down 7, carry the 0"
   ]
  },
  {
   "cell_type": "code",
   "execution_count": 22,
   "id": "ec2e8f6d",
   "metadata": {},
   "outputs": [
    {
     "data": {
      "text/plain": [
       "\u001b[33m7\u001b[39m"
      ]
     },
     "execution_count": 22,
     "metadata": {},
     "output_type": "execute_result"
    }
   ],
   "source": [
    "sum % 10"
   ]
  },
  {
   "cell_type": "markdown",
   "id": "bf5bfc38",
   "metadata": {},
   "source": [
    "Use `Math.floor(sum / 10)` to represent values you would carry."
   ]
  },
  {
   "cell_type": "code",
   "execution_count": 23,
   "id": "4868c2e8",
   "metadata": {},
   "outputs": [
    {
     "data": {
      "text/plain": [
       "\u001b[33m0\u001b[39m"
      ]
     },
     "execution_count": 23,
     "metadata": {},
     "output_type": "execute_result"
    }
   ],
   "source": [
    "Math.floor(sum / 10)"
   ]
  },
  {
   "cell_type": "code",
   "execution_count": 24,
   "id": "565b3c92",
   "metadata": {},
   "outputs": [],
   "source": [
    "current = current.next\n"
   ]
  },
  {
   "cell_type": "code",
   "execution_count": 26,
   "id": "de4c96de",
   "metadata": {},
   "outputs": [],
   "source": [
    "current"
   ]
  }
 ],
 "metadata": {
  "kernelspec": {
   "display_name": "Deno",
   "language": "typescript",
   "name": "deno"
  },
  "language_info": {
   "codemirror_mode": "typescript",
   "file_extension": ".ts",
   "mimetype": "text/x.typescript",
   "name": "typescript",
   "nbconvert_exporter": "script",
   "pygments_lexer": "typescript",
   "version": "5.8.3"
  }
 },
 "nbformat": 4,
 "nbformat_minor": 5
}
