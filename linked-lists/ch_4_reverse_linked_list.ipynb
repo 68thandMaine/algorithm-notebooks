{
 "cells": [
  {
   "cell_type": "markdown",
   "id": "9684532d",
   "metadata": {},
   "source": [
    "# Reverse a Linked List\n",
    "\n",
    "## Table of Contents\n",
    "- [Impure Recursion](#using-impure-recursion)\n",
    "  - [Base case - Bail](#base-case---bail)\n",
    "  - [Build Recursive function](#build-recursive-function)\n",
    "  - [Track the Next Node](#track-the-next-node)\n",
    "  - [Check For More Values](#check-for-more-values)\n",
    "  - [Call the Function](#call-the-function)\n",
    "  - [Final Algorithm](#final-algorithm)\n",
    "- [Pure Recursion](#pure-recursion)\n",
    "- [Impure Iteration](#impure-iteration)\n",
    "  - [Set Variables for `while` Loop](#set-variables-for-while-loop)\n",
    "  - [Return the Previous Value](#return-the-previous-value)\n",
    "\n",
    "\n",
    "## Using Impure Recursion\n",
    "\n",
    "In this strategy we use recursion to solve the problem. To reverse the\n",
    "LinkedList, call the `reverse` function, but do so with the list of next vals\n",
    "passed as the value, and the current value passed as next."
   ]
  },
  {
   "cell_type": "code",
   "execution_count": 1,
   "id": "064c0496",
   "metadata": {},
   "outputs": [],
   "source": [
    "import { ListNode, example1_head, listToArray } from \"@createLinkedList\";\n",
    "const head = example1_head;\n",
    "let currentNode = head;\n",
    "let parentNode = null;"
   ]
  },
  {
   "cell_type": "markdown",
   "id": "ed5e5d64",
   "metadata": {},
   "source": [
    "---"
   ]
  },
  {
   "cell_type": "markdown",
   "id": "0119255d",
   "metadata": {},
   "source": [
    "### Base case - Bail\n",
    "\n",
    "The function we work in will take two values, `head` and `parent`. If `head` does\n",
    "not exist, then we need to return the `parent`. This is the base case."
   ]
  },
  {
   "cell_type": "code",
   "execution_count": 2,
   "id": "23b70364",
   "metadata": {},
   "outputs": [],
   "source": [
    "if(!head) console.log('return head')"
   ]
  },
  {
   "cell_type": "markdown",
   "id": "3f2366b1",
   "metadata": {},
   "source": [
    "### Build Recursive function\n",
    "\n",
    "To reverse the `LinkedList` with recursion we can create a closure. This\n",
    "recursive function will take two parameters, the current node, and the parent\n",
    "node.\n",
    "\n",
    "```\n",
    "const reverse = (currentNode: ListNode, parentNode: ListNode | null) => {}\n",
    "```\n",
    "\n",
    "note that of the two, the **parentNode** can be null.\n",
    "\n",
    "#### Track the Next Node\n",
    "\n",
    "The function needs to have a variable used to track the next node in the current\n",
    "node."
   ]
  },
  {
   "cell_type": "code",
   "execution_count": 3,
   "id": "40fdc61a",
   "metadata": {},
   "outputs": [],
   "source": [
    "const next = currentNode.next"
   ]
  },
  {
   "cell_type": "markdown",
   "id": "8f6f8387",
   "metadata": {},
   "source": [
    "Then we can update the current node by creating a new `ListNode` and passing it\n",
    "the current node value, and the parent node. is how we will build the reversed\n",
    "list."
   ]
  },
  {
   "cell_type": "code",
   "execution_count": 4,
   "id": "c56ef26c",
   "metadata": {},
   "outputs": [
    {
     "data": {
      "text/plain": [
       "ListNode { val: \u001b[33m1\u001b[39m, next: \u001b[1mnull\u001b[22m }"
      ]
     },
     "execution_count": 4,
     "metadata": {},
     "output_type": "execute_result"
    }
   ],
   "source": [
    "currentNode = new ListNode(currentNode.val, parentNode)"
   ]
  },
  {
   "cell_type": "markdown",
   "id": "7a20113f",
   "metadata": {},
   "source": [
    "### Check For More Values\n",
    "\n",
    "Next, we need to check if there are any more values in the original `LinkedList`\n",
    ". Earlier we saved this in the `next` variable."
   ]
  },
  {
   "cell_type": "code",
   "execution_count": 5,
   "id": "84ac867c",
   "metadata": {},
   "outputs": [],
   "source": [
    "if(!next) console.log('return currentNode')"
   ]
  },
  {
   "cell_type": "markdown",
   "id": "18bc8931",
   "metadata": {},
   "source": [
    "### Call the Function\n",
    "\n",
    "Finally we can call the closure from within the closure\n",
    "\n",
    "```\n",
    "reverse(next, currentNode)\n",
    "```"
   ]
  },
  {
   "cell_type": "markdown",
   "id": "514e7120",
   "metadata": {},
   "source": [
    "Outside of the closure we return the result of the closure.\n",
    "\n",
    "### Final Algorithm\n",
    "\n",
    "```typescript\n",
    "function reverseList(head: ListNode | null): ListNode|null {\n",
    "  if(!head) return head\n",
    "\n",
    "  const reverse = (currentNode: ListNode, parentNode: ListNode | null): ListNode | null => {\n",
    "    const next = currentNode.next;\n",
    "    currentNode = new ListNode(currentNode.value, parentNode)\n",
    "    \n",
    "    if(!next) return currentNode\n",
    "    \n",
    "    reverse(next, currentNode)\n",
    "  }\n",
    "  \n",
    "  return reverse(head, null)\n",
    "}\n",
    "```"
   ]
  },
  {
   "cell_type": "markdown",
   "id": "91bbf63e",
   "metadata": {},
   "source": [
    "## Pure Recursion"
   ]
  },
  {
   "cell_type": "code",
   "execution_count": 6,
   "id": "8d7292e5",
   "metadata": {},
   "outputs": [
    {
     "name": "stdout",
     "output_type": "stream",
     "text": [
      " \n",
      "newHead [ 5 ]\n",
      "head.next.next [] = [ 4, 5 ]\n",
      "head.next <ref *1> ListNode {\n",
      "  val: 5,\n",
      "  next: ListNode { val: 4, next: [Circular *1] }\n",
      "} = null\n",
      "newHead [ 5, 4 ]\n",
      " \n",
      "newHead [ 5, 4 ]\n",
      "head.next.next [] = [ 3, 4 ]\n",
      "head.next <ref *1> ListNode {\n",
      "  val: 4,\n",
      "  next: ListNode { val: 3, next: [Circular *1] }\n",
      "} = null\n",
      "newHead [ 5, 4, 3 ]\n",
      " \n",
      "newHead [ 5, 4, 3 ]\n",
      "head.next.next [] = [ 2, 3 ]\n",
      "head.next <ref *1> ListNode {\n",
      "  val: 3,\n",
      "  next: ListNode { val: 2, next: [Circular *1] }\n",
      "} = null\n",
      "newHead [ 5, 4, 3, 2 ]\n",
      " \n",
      "newHead [ 5, 4, 3, 2 ]\n",
      "head.next.next [] = [ 1, 2 ]\n",
      "head.next <ref *1> ListNode {\n",
      "  val: 2,\n",
      "  next: ListNode { val: 1, next: [Circular *1] }\n",
      "} = null\n",
      "newHead [ 5, 4, 3, 2, 1 ]\n"
     ]
    },
    {
     "data": {
      "text/plain": [
       "ListNode {\n",
       "  val: \u001b[33m5\u001b[39m,\n",
       "  next: ListNode {\n",
       "    val: \u001b[33m4\u001b[39m,\n",
       "    next: ListNode {\n",
       "      val: \u001b[33m3\u001b[39m,\n",
       "      next: ListNode { val: \u001b[33m2\u001b[39m, next: ListNode { val: \u001b[33m1\u001b[39m, next: \u001b[1mnull\u001b[22m } }\n",
       "    }\n",
       "  }\n",
       "}"
      ]
     },
     "execution_count": 6,
     "metadata": {},
     "output_type": "execute_result"
    }
   ],
   "source": [
    "function reverseList(head: ListNode | null): ListNode | null {\n",
    "  if (!head || !head.next) return head;\n",
    "  const newHead = reverseList(head.next);\n",
    "  \n",
    "  console.log(' ')\n",
    "  console.log('newHead', listToArray(newHead))\n",
    "  console.log('head.next.next', listToArray(head.next.next), '=', listToArray(head))\n",
    "  \n",
    "  \n",
    "  head.next.next = head;\n",
    "  \n",
    "  console.log('head.next', head.next, '=', null)\n",
    " \n",
    "  head.next = null;\n",
    "  console.log('newHead', listToArray(newHead))\n",
    "  return newHead;\n",
    "}\n",
    "\n",
    "reverseList(example1_head)"
   ]
  },
  {
   "cell_type": "markdown",
   "id": "5ad781fc",
   "metadata": {},
   "source": [
    "## Impure Iteration\n",
    "\n",
    "This solution iterates through the `LinkedList` with a `while` loop. \n",
    "\n",
    "```typescript\n",
    "while(head) {...}\n",
    "```\n",
    "That being said, it is important to declare helper variables that we can use to \n",
    "track the `prev` and `curr` values as the `while` loop iterates."
   ]
  },
  {
   "cell_type": "code",
   "execution_count": 7,
   "id": "45bbd475",
   "metadata": {},
   "outputs": [],
   "source": [
    "let prev = null;\n",
    "let curr = head;"
   ]
  },
  {
   "cell_type": "markdown",
   "id": "2ebcfd50",
   "metadata": {},
   "source": [
    "note that we set the `curr` variable to `head` because it represents the current\n",
    "state when the function is called = the beginning of the `LinkedList`.\n",
    "\n",
    "### Set Variables for `while` Loop\n",
    "\n",
    "The meat of this algorithm involves reassigning variables to themselves. First, \n",
    "we need to create a variable to hold the next nodes in the current linked list. \n",
    "Then we need to update the remaining nodes in the current node to match the \n",
    "previous node values. We do this with the `prev` value above. Afterwards we need\n",
    "to update the `prev` and `head` values "
   ]
  },
  {
   "cell_type": "code",
   "execution_count": 8,
   "id": "e6bb49f6",
   "metadata": {},
   "outputs": [],
   "source": [
    "const next = curr.next;"
   ]
  },
  {
   "cell_type": "markdown",
   "id": "85c3dd83",
   "metadata": {},
   "source": [
    "Set the next nodes in `head` equal to the previous value."
   ]
  },
  {
   "cell_type": "code",
   "execution_count": 9,
   "id": "fe5d973f",
   "metadata": {},
   "outputs": [
    {
     "data": {
      "text/plain": [
       "\u001b[1mnull\u001b[22m"
      ]
     },
     "execution_count": 9,
     "metadata": {},
     "output_type": "execute_result"
    }
   ],
   "source": [
    "curr.next = prev;"
   ]
  },
  {
   "cell_type": "markdown",
   "id": "a7dee4fa",
   "metadata": {},
   "source": [
    "Set the previous values equal to the current `ListNode`"
   ]
  },
  {
   "cell_type": "code",
   "execution_count": 10,
   "id": "b201cca9",
   "metadata": {},
   "outputs": [
    {
     "data": {
      "text/plain": [
       "ListNode { val: \u001b[33m1\u001b[39m, next: \u001b[1mnull\u001b[22m }"
      ]
     },
     "execution_count": 10,
     "metadata": {},
     "output_type": "execute_result"
    }
   ],
   "source": [
    "prev = curr;"
   ]
  },
  {
   "cell_type": "markdown",
   "id": "7bd03aef",
   "metadata": {},
   "source": [
    "Finally, set the current `ListNode` to next value in the original `ListNode`"
   ]
  },
  {
   "cell_type": "code",
   "execution_count": 11,
   "id": "c7f8d403",
   "metadata": {},
   "outputs": [
    {
     "data": {
      "text/plain": [
       "\u001b[1mnull\u001b[22m"
      ]
     },
     "execution_count": 11,
     "metadata": {},
     "output_type": "execute_result"
    }
   ],
   "source": [
    "curr = next;"
   ]
  },
  {
   "cell_type": "markdown",
   "id": "d272d7f1",
   "metadata": {},
   "source": [
    "### Return the Previous Value\n",
    "\n",
    "Outside of the `while` loop, we return the previous value - which could be null,\n",
    "or the reversed `LinkedList`"
   ]
  },
  {
   "cell_type": "code",
   "execution_count": 12,
   "id": "fda7dd27",
   "metadata": {},
   "outputs": [
    {
     "data": {
      "text/plain": [
       "ListNode { val: \u001b[33m1\u001b[39m, next: \u001b[1mnull\u001b[22m }"
      ]
     },
     "execution_count": 12,
     "metadata": {},
     "output_type": "execute_result"
    }
   ],
   "source": [
    "//return prev\n",
    "prev"
   ]
  }
 ],
 "metadata": {
  "kernelspec": {
   "display_name": "Deno",
   "language": "typescript",
   "name": "deno"
  },
  "language_info": {
   "codemirror_mode": "typescript",
   "file_extension": ".ts",
   "mimetype": "text/x.typescript",
   "name": "typescript",
   "nbconvert_exporter": "script",
   "pygments_lexer": "typescript",
   "version": "5.8.3"
  }
 },
 "nbformat": 4,
 "nbformat_minor": 5
}
