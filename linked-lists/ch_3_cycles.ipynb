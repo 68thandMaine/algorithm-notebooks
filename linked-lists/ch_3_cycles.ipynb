{
 "cells": [
  {
   "cell_type": "markdown",
   "id": "6b14fe26",
   "metadata": {},
   "source": [
    "# Linked List Cycle\n",
    "\n",
    "[From Leetcode](https://leetcode.com/problems/linked-list-cycle/description/)\n",
    "\n",
    "---\n",
    "\n",
    "## Problem\n",
    "\n",
    "Determine if a Cycle in a Linked List exits. This occurs when a node can be accessed by another node by using the `next` pointer.\n",
    "\n",
    "## Solution\n",
    "\n",
    "There are several ways to solve this:\n",
    "\n",
    "1. Tortoise and Hare Algorithm\n",
    "\n",
    "- O(n) time complexity \n",
    "- O(1) space usage\n"
   ]
  },
  {
   "cell_type": "code",
   "execution_count": 7,
   "id": "838e2933",
   "metadata": {},
   "outputs": [],
   "source": [
    "import { ListNode, example1_head } from \"@createLinkedList\";"
   ]
  },
  {
   "cell_type": "code",
   "execution_count": 8,
   "id": "ed0a281c",
   "metadata": {},
   "outputs": [],
   "source": [
    "let slow = example1_head;\n",
    "let fast = example1_head;\n",
    "\n",
    "while(fast && fast.next) {\n",
    "  slow = slow.next;\n",
    "  fast = fast.next.next;\n",
    "  if(slow === fast) {\n",
    "    console.log('Cycle detected')\n",
    "  }\n",
    "}\n",
    "\n"
   ]
  },
  {
   "cell_type": "markdown",
   "id": "b02bb987",
   "metadata": {},
   "source": []
  }
 ],
 "metadata": {
  "kernelspec": {
   "display_name": "Deno",
   "language": "typescript",
   "name": "deno"
  },
  "language_info": {
   "codemirror_mode": "typescript",
   "file_extension": ".ts",
   "mimetype": "text/x.typescript",
   "name": "typescript",
   "nbconvert_exporter": "script",
   "pygments_lexer": "typescript",
   "version": "5.8.3"
  }
 },
 "nbformat": 4,
 "nbformat_minor": 5
}
