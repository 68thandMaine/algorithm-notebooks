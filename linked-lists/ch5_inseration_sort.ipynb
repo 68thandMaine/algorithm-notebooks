{
 "cells": [
  {
   "cell_type": "markdown",
   "id": "63c80549",
   "metadata": {},
   "source": [
    "# Insertion Sort\n",
    "\n",
    "[LeetCode Problem](https://leetcode.com/problems/insertion-sort-list/description/)\n",
    "\n",
    "Insertion sort can work a number of ways, basically it moves \n",
    "\n",
    "## Algorithm\n",
    "\n",
    "### Create Variables in `while` Loop\n",
    "\n",
    "#### `next`\n",
    "#### `insertPosition`\n",
    "\n",
    "### Sub Loop\n",
    "\n",
    "### Insert Current Node\n",
    "\n",
    "### Move to Next Node in Original List\n",
    "\n",
    "### Final Algorithm\n",
    "\n",
    "```\n",
    "function insertionSortList(head: ListNode | null): ListNode | null {\n",
    "    // If list is empty or has only one node, it's already sorted\n",
    "    if (!head || !head.next) return head\n",
    "\n",
    "    // Dummy node to help with insertion at the start of the list\n",
    "    const dummy = new ListNode(0)\n",
    "    let curr: ListNode | null = head\n",
    "\n",
    "    while (curr !== null) {\n",
    "        // Store the next node before we modify the current node's connections\n",
    "        const next = curr.next\n",
    "\n",
    "        // Find the right position to insert the current node\n",
    "        let insertPos: ListNode | null = dummy\n",
    "        while (insertPos.next !== null && insertPos.next.val < curr.val) {\n",
    "            insertPos = insertPos.next\n",
    "        }\n",
    "\n",
    "        // Insert the current node\n",
    "        curr.next = insertPos.next\n",
    "        insertPos.next = curr\n",
    "\n",
    "        // Move to the next node in the original list\n",
    "        curr = next\n",
    "    }\n",
    "\n",
    "    return dummy.next\n",
    "}\n",
    "```"
   ]
  }
 ],
 "metadata": {
  "language_info": {
   "name": "python"
  }
 },
 "nbformat": 4,
 "nbformat_minor": 5
}
