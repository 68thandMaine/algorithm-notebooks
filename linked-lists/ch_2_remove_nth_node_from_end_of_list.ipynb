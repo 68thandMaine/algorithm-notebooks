{
 "cells": [
  {
   "cell_type": "markdown",
   "id": "1123a2ae",
   "metadata": {},
   "source": [
    "# [Remove Nth From Linked List](https://leetcode.com/problems/remove-nth-node-from-end-of-list/?envType=problem-list-v2&envId=linked-list)\n",
    "\n"
   ]
  },
  {
   "cell_type": "code",
   "execution_count": null,
   "id": "b99883e5",
   "metadata": {},
   "outputs": [],
   "source": [
    "import { ListNode, example1_head } from \"@createLinkedList\";\n",
    "example1_head"
   ]
  },
  {
   "cell_type": "markdown",
   "id": "8f73064f",
   "metadata": {},
   "source": [
    "Use two pointers and a \"dummy\" node to accomplish the task"
   ]
  },
  {
   "cell_type": "code",
   "execution_count": null,
   "id": "ed522081",
   "metadata": {},
   "outputs": [],
   "source": [
    "let dummy = new ListNode(0, example1_head);\n",
    "let slow = dummy\n",
    "let fast = dummy"
   ]
  },
  {
   "cell_type": "markdown",
   "id": "25825f93",
   "metadata": {},
   "source": [
    "Then we need to set `fast` ahead by `n + 1`; In this case `n` is a param of the function we are writing.\n",
    "\n",
    "Increment with a for loop"
   ]
  },
  {
   "cell_type": "code",
   "execution_count": null,
   "id": "2b3c5cd5",
   "metadata": {},
   "outputs": [],
   "source": [
    "let n = 2;\n",
    "for(let i = 0; i <= n; i++) {\n",
    "  if (fast) fast = fast.next;\n",
    "}"
   ]
  },
  {
   "cell_type": "markdown",
   "id": "db039d52",
   "metadata": {},
   "source": [
    "Then move the `fast` and `slow` pointers until `fast` reaches the end."
   ]
  },
  {
   "cell_type": "code",
   "execution_count": null,
   "id": "0cebe596",
   "metadata": {},
   "outputs": [],
   "source": [
    "while(fast) {\n",
    "  fast = fast.next;\n",
    "  console.table({fast, slow})\n",
    "  \n",
    "  if(slow) slow = slow.next;\n",
    "}"
   ]
  },
  {
   "cell_type": "code",
   "execution_count": null,
   "id": "6bbb4467",
   "metadata": {},
   "outputs": [],
   "source": [
    "\n",
    "if(slow && slow.next) {\n",
    "  slow.next = slow.next.next;\n",
    "}\n",
    "slow"
   ]
  },
  {
   "cell_type": "code",
   "execution_count": null,
   "id": "006d80ed",
   "metadata": {},
   "outputs": [],
   "source": [
    "dummy"
   ]
  },
  {
   "cell_type": "markdown",
   "id": "a5eaf300",
   "metadata": {},
   "source": [
    "At this point the `slow` pointer will be one position away from the `nth` node to be removed. To remove it, simply set the `slow` pointer to the following value."
   ]
  },
  {
   "cell_type": "code",
   "execution_count": null,
   "id": "d059d923",
   "metadata": {},
   "outputs": [],
   "source": [
    "if (slow && slow.next) {\n",
    "  slow.next = slow.next.next;\n",
    "}\n"
   ]
  },
  {
   "cell_type": "code",
   "execution_count": null,
   "id": "7e9bc652",
   "metadata": {},
   "outputs": [],
   "source": [
    "function removeNthFromEnd(head, n) {\n",
    "  let dummy = new ListNode(0, head);\n",
    "  let slow = dummy;\n",
    "  let fast = dummy;\n",
    "  \n",
    "  for(let i = 0; i <= n; i++) {\n",
    "    if (fast) fast = fast.next;\n",
    "  }\n",
    "  \n",
    "  while(fast) {\n",
    "    fast = fast.next;\n",
    "    slow = slow.next;\n",
    "  }\n",
    "  \n",
    "  if(slow && slow.next) {\n",
    "    slow.next = slow.next.next;\n",
    "  }\n",
    "  \n",
    "  return dummy.next;\n",
    "}\n",
    "removeNthFromEnd(example1_head, 2)"
   ]
  }
 ],
 "metadata": {
  "kernelspec": {
   "display_name": "Deno",
   "language": "typescript",
   "name": "deno"
  },
  "language_info": {
   "codemirror_mode": "typescript",
   "file_extension": ".ts",
   "mimetype": "text/x.typescript",
   "name": "typescript",
   "nbconvert_exporter": "script",
   "pygments_lexer": "typescript",
   "version": "5.8.3"
  }
 },
 "nbformat": 4,
 "nbformat_minor": 5
}
