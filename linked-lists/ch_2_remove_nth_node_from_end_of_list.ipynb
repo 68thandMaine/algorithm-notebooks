{
 "cells": [
  {
   "cell_type": "markdown",
   "id": "c2c99d36",
   "metadata": {},
   "source": [
    "# Remove Nth Node From End of List\n",
    "\n"
   ]
  },
  {
   "cell_type": "markdown",
   "id": "7d5c7f45",
   "metadata": {},
   "source": [
    "## Setup:"
   ]
  },
  {
   "cell_type": "code",
   "execution_count": null,
   "id": "629717fd",
   "metadata": {},
   "outputs": [],
   "source": [
    "// Definition for singly-linked list.\n",
    "export class ListNode {\n",
    "    val: number;\n",
    "    next: ListNode | null;\n",
    "\n",
    "    constructor(val?: number, next?: ListNode | null) {\n",
    "        this.val = (val === undefined ? 0 : val);\n",
    "        this.next = (next === undefined ? null : next);\n",
    "    }\n",
    "}\n",
    "\n",
    "// Helper: build a linked list from an array\n",
    "export function buildList(arr: number[]): ListNode | null {\n",
    "    const dummy = new ListNode(0);\n",
    "    let curr = dummy;\n",
    "    for (let num of arr) {\n",
    "        curr.next = new ListNode(num);\n",
    "        curr = curr.next;\n",
    "    }\n",
    "    return dummy.next;\n",
    "}\n",
    "\n",
    "// Helper: convert linked list back to array (for easy checking)\n",
    "export function listToArray(node: ListNode | null): number[] {\n",
    "    const result: number[] = [];\n",
    "    while (node) {\n",
    "        result.push(node.val);\n",
    "        node = node.next;\n",
    "    }\n",
    "    return result;\n",
    "}\n",
    "\n",
    "// --- Example Mock Data ---\n",
    "\n",
    "// Example 1\n",
    "export const example1_head = buildList([1,2,3,4,5]);\n",
    "export const example1_n = 2;  // expected output [1,2,3,5]\n",
    "\n",
    "// Example 2\n",
    "export const example2_head = buildList([1]);\n",
    "export const example2_n = 1;  // expected output []\n",
    "\n",
    "// Example 3\n",
    "export const example3_head = buildList([1,2]);\n",
    "export const example3_n = 1;  // expected output [1]\n"
   ]
  },
  {
   "cell_type": "code",
   "execution_count": null,
   "id": "b350f4db",
   "metadata": {},
   "outputs": [
    {
     "data": {
      "text/plain": [
       "ListNode {\n",
       "  val: \u001b[33m1\u001b[39m,\n",
       "  next: ListNode {\n",
       "    val: \u001b[33m2\u001b[39m,\n",
       "    next: ListNode {\n",
       "      val: \u001b[33m3\u001b[39m,\n",
       "      next: ListNode { val: \u001b[33m4\u001b[39m, next: ListNode { val: \u001b[33m5\u001b[39m, next: \u001b[1mnull\u001b[22m } }\n",
       "    }\n",
       "  }\n",
       "}"
      ]
     },
     "execution_count": 2,
     "metadata": {},
     "output_type": "execute_result"
    }
   ],
   "source": [
    "example1_head"
   ]
  },
  {
   "cell_type": "markdown",
   "id": "c7ffb0b1",
   "metadata": {},
   "source": [
    "List nodes are manipulated in a peculiar way, but I'll figure it out."
   ]
  },
  {
   "cell_type": "markdown",
   "id": "cb60a788",
   "metadata": {},
   "source": [
    "First the code loops through the number to remove from the end. Remember, in this scenario, the number is represented as a reversed array. So 456 == ['6', '5', '4'];\n",
    "\n",
    "You need to conjure a mental image for what a Linked List might look like."
   ]
  }
 ],
 "metadata": {
  "kernelspec": {
   "display_name": "Deno",
   "language": "typescript",
   "name": "deno"
  },
  "language_info": {
   "codemirror_mode": "typescript",
   "file_extension": ".ts",
   "mimetype": "text/x.typescript",
   "name": "typescript",
   "nbconvert_exporter": "script",
   "pygments_lexer": "typescript",
   "version": "5.8.3"
  }
 },
 "nbformat": 4,
 "nbformat_minor": 5
}
